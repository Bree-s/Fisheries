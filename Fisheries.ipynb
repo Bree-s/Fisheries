{
 "cells": [
  {
   "cell_type": "code",
   "execution_count": 1,
   "metadata": {},
   "outputs": [],
   "source": [
    "import mysql.connector\n",
    "import csv\n",
    "import pymysql"
   ]
  },
  {
   "cell_type": "code",
   "execution_count": 2,
   "metadata": {},
   "outputs": [
    {
     "name": "stdout",
     "output_type": "stream",
     "text": [
      "Requirement already satisfied: pymysql in c:\\users\\brenda.onyango\\anaconda3\\lib\\site-packages (1.0.2)\n"
     ]
    }
   ],
   "source": [
    "!pip install pymysql"
   ]
  },
  {
   "cell_type": "code",
   "execution_count": 2,
   "metadata": {},
   "outputs": [
    {
     "name": "stdout",
     "output_type": "stream",
     "text": [
      "Report Loading\n"
     ]
    }
   ],
   "source": [
    "#Connect to server\n",
    "mydb = mysql.connector.connect(\n",
    "    host='localhost',\n",
    "    user='root',\n",
    "    password='solo2018'    \n",
    ")\n",
    "\n",
    "print(\"Report Loading\")"
   ]
  },
  {
   "cell_type": "code",
   "execution_count": 3,
   "metadata": {},
   "outputs": [],
   "source": [
    "#Create the cursor object\n",
    "cursor = mydb.cursor()"
   ]
  },
  {
   "cell_type": "code",
   "execution_count": 4,
   "metadata": {},
   "outputs": [
    {
     "name": "stdout",
     "output_type": "stream",
     "text": [
      "Fisheries DB Created\n"
     ]
    }
   ],
   "source": [
    "#Create the Database\n",
    "cursor.execute('CREATE DATABASE IF NOT EXISTS Fisheries')\n",
    "print(\"Fisheries DB Created\")"
   ]
  },
  {
   "cell_type": "code",
   "execution_count": 8,
   "metadata": {},
   "outputs": [
    {
     "name": "stdout",
     "output_type": "stream",
     "text": [
      "('academics',)\n",
      "('academics2',)\n",
      "('brendaonyango',)\n",
      "('fisheries',)\n",
      "('information_schema',)\n",
      "('mydatabase',)\n",
      "('mysql',)\n",
      "('performance_schema',)\n",
      "('sakila',)\n",
      "('sys',)\n",
      "('world',)\n"
     ]
    }
   ],
   "source": [
    "cursor.execute(\"SHOW DATABASES\")\n",
    "for x in cursor:\n",
    "    print(x)"
   ]
  },
  {
   "cell_type": "code",
   "execution_count": 5,
   "metadata": {},
   "outputs": [],
   "source": [
    "import mysql.connector as brenda"
   ]
  },
  {
   "cell_type": "code",
   "execution_count": 6,
   "metadata": {},
   "outputs": [],
   "source": [
    "mydb = mysql.connector.connect(\n",
    "    host='localhost',\n",
    "    user='root',\n",
    "    password='solo2018',\n",
    "    database='Fisheries'\n",
    ")"
   ]
  },
  {
   "cell_type": "code",
   "execution_count": 7,
   "metadata": {},
   "outputs": [
    {
     "name": "stdout",
     "output_type": "stream",
     "text": [
      "Table Boat Created Successfully\n"
     ]
    }
   ],
   "source": [
    "#Create Boat Table\n",
    "cursor = mydb.cursor()\n",
    "\n",
    "cursor.execute(\"CREATE TABLE IF NOT EXISTS Boat(\"\n",
    "                  \"BoatId INT PRIMARY KEY,\"\n",
    "                  \"BoatName VARCHAR(100),\"\n",
    "                  \"BoatSize INT(10),\"\n",
    "                  \"BoatLength INT(10),\"\n",
    "                  \"StationId INT(10),\"\n",
    "                  \"BoatCapacity INT(20),\"\n",
    "                   \"Fishing BOOLEAN)\")\n",
    "               \n",
    "print(\"Table Boat Created Successfully\")"
   ]
  },
  {
   "cell_type": "code",
   "execution_count": 8,
   "metadata": {},
   "outputs": [
    {
     "name": "stdout",
     "output_type": "stream",
     "text": [
      "Table Fisher Created Successfully\n"
     ]
    }
   ],
   "source": [
    "#Create Fisher Table\n",
    "import mysql.connector as brenda\n",
    "\n",
    "mydb = brenda.connect(\n",
    "        host = \"localhost\",\n",
    "        user=\"root\",\n",
    "        password =\"solo2018\",\n",
    "        database = \"Fisheries\"\n",
    ")\n",
    "mycursor = mydb.cursor()\n",
    "mycursor.execute(\"CREATE TABLE IF NOT EXISTS Fisher(\"\n",
    "                 \"FishermanId INT(10) PRIMARY KEY,\"\n",
    "                  \"FisherName VARCHAR(100),\"\n",
    "                  \"BoatId INT(10),\"\n",
    "                  \"PhoneNumber INT(10),\"\n",
    "                  \"EmailAddress VARCHAR(100),\"\n",
    "                  \"Age INT(10));\")\n",
    "print(\"Table Fisher Created Successfully\")"
   ]
  },
  {
   "cell_type": "code",
   "execution_count": 9,
   "metadata": {},
   "outputs": [
    {
     "name": "stdout",
     "output_type": "stream",
     "text": [
      "Table Owner Created Successfully\n"
     ]
    }
   ],
   "source": [
    "#Create Owner Table\n",
    "import mysql.connector as brenda\n",
    "\n",
    "mydb = brenda.connect(\n",
    "        host = \"localhost\",\n",
    "        user=\"root\",\n",
    "        password =\"solo2018\",\n",
    "        database = \"Fisheries\"\n",
    ")\n",
    "mycursor = mydb.cursor()\n",
    "mycursor.execute(\"CREATE TABLE IF NOT EXISTS Owner(\"\n",
    "                 \"OwnerId VARCHAR(100) PRIMARY KEY,\"\n",
    "                 \"OwnerName VARCHAR(100),\"\n",
    "                  \"BoatId VARCHAR(100),\"\n",
    "                  \"PhoneNumber INT(10),\"\n",
    "                  \"EmailAddress VARCHAR(100));\")\n",
    "print(\"Table Owner Created Successfully\")"
   ]
  },
  {
   "cell_type": "code",
   "execution_count": 10,
   "metadata": {},
   "outputs": [
    {
     "name": "stdout",
     "output_type": "stream",
     "text": [
      "Table Station Created Successfully\n"
     ]
    }
   ],
   "source": [
    "#Create Station Table\n",
    "import mysql.connector as brenda\n",
    "\n",
    "mydb = brenda.connect(\n",
    "        host = \"localhost\",\n",
    "        user=\"root\",\n",
    "        password =\"solo2018\",\n",
    "        database = \"Fisheries\"\n",
    ")\n",
    "mycursor = mydb.cursor()\n",
    "mycursor.execute(\"CREATE TABLE IF NOT EXISTS Station(\"\n",
    "                 \"StationId INT(10) PRIMARY KEY,\"\n",
    "                  \"StationName VARCHAR(100),\"\n",
    "                  \"Address VARCHAR(100),\"\n",
    "                  \"EmailAddress VARCHAR(100));\")\n",
    "print(\"Table Station Created Successfully\")"
   ]
  },
  {
   "cell_type": "code",
   "execution_count": 22,
   "metadata": {},
   "outputs": [
    {
     "name": "stdout",
     "output_type": "stream",
     "text": [
      "Current working directory: C:\\Users\\brenda.onyango\n"
     ]
    }
   ],
   "source": [
    "cwd = os.getcwd()\n",
    "print(\"Current working directory: {0}\".format(cwd))"
   ]
  },
  {
   "cell_type": "code",
   "execution_count": 12,
   "metadata": {},
   "outputs": [],
   "source": [
    "#os.listdir()"
   ]
  },
  {
   "cell_type": "code",
   "execution_count": 34,
   "metadata": {},
   "outputs": [
    {
     "data": {
      "text/plain": [
       "True"
      ]
     },
     "execution_count": 34,
     "metadata": {},
     "output_type": "execute_result"
    }
   ],
   "source": [
    "import os\n",
    "fn=r\"C:\\\\Users\\\\brenda.onyango\\\\Downloads\\\\Fisher.csv\"\n",
    "os.path.exists(fn)"
   ]
  },
  {
   "cell_type": "code",
   "execution_count": 11,
   "metadata": {},
   "outputs": [
    {
     "name": "stdout",
     "output_type": "stream",
     "text": [
      "Data Entered into Boat\n"
     ]
    }
   ],
   "source": [
    "#Insert Boat records from a csv file\n",
    "import mysql.connector as brenda\n",
    "import csv\n",
    "import pymysql\n",
    "\n",
    "mydb = brenda.connect(\n",
    "        host = \"localhost\",\n",
    "        user=\"root\",\n",
    "        password =\"solo2018\",\n",
    "        database = \"Fisheries\"\n",
    ")\n",
    "Fisher = mydb.cursor()\n",
    "\n",
    "#read data from csv file - make it a raw string\n",
    "cursor = csv.reader(open(r\"C:\\Users\\brenda.onyango\\Downloads\\Boat.csv\"))\n",
    "\n",
    "\n",
    "next(cursor)\n",
    "\n",
    "for row in cursor:\n",
    "    \n",
    "    Fisher.execute(\"INSERT IGNORE INTO Boat(BoatId,BoatName,BoatSize,BoatLength,StationId,BoatCapacity,Fishing) VALUES(%s,%s,%s,%s,%s,%s,%s)\",row)\n",
    "\n",
    "mydb.commit()\n",
    "Fisher.close()\n",
    "\n",
    "print(\"Data Entered into Boat\")"
   ]
  },
  {
   "cell_type": "code",
   "execution_count": 13,
   "metadata": {},
   "outputs": [
    {
     "name": "stdout",
     "output_type": "stream",
     "text": [
      "Data Entered into Owner Table\n"
     ]
    }
   ],
   "source": [
    "import mysql.connector as brenda\n",
    "import csv\n",
    "import pymysql\n",
    "\n",
    "mydb = brenda.connect(\n",
    "        host = \"localhost\",\n",
    "        user=\"root\",\n",
    "        password =\"solo2018\",\n",
    "        database = \"Fisheries\"\n",
    ")\n",
    "esther = mydb.cursor()\n",
    "\n",
    "cursor = csv.reader(open(\"C:\\\\Users\\\\brenda.onyango\\\\Downloads\\\\Owner.csv\",\"r\"))\n",
    "\n",
    "next(cursor)\n",
    "\n",
    "for row in cursor:\n",
    "    \n",
    "    esther.execute(\"INSERT INTO Owner(OwnerId,OwnerName,BoatId,PhoneNumber,EmailAddress) VALUES(%s,%s,%s,%s,%s)\",row)\n",
    "\n",
    "mydb.commit()\n",
    "esther.close()\n",
    "\n",
    "print(\"Data Entered into Owner Table\")"
   ]
  },
  {
   "cell_type": "code",
   "execution_count": 14,
   "metadata": {},
   "outputs": [
    {
     "name": "stdout",
     "output_type": "stream",
     "text": [
      "Data Entered into Fisher Table\n"
     ]
    }
   ],
   "source": [
    "import mysql.connector as brenda\n",
    "import csv\n",
    "import pymysql\n",
    "\n",
    "mydb = brenda.connect(\n",
    "        host = \"localhost\",\n",
    "        user=\"root\",\n",
    "        password =\"solo2018\",\n",
    "        database = \"Fisheries\"\n",
    ")\n",
    "esther = mydb.cursor()\n",
    "\n",
    "cursor = csv.reader(open(\"C:\\\\Users\\\\brenda.onyango\\\\Downloads\\\\Fisher.csv\",\"r\"))\n",
    "\n",
    "next(cursor)\n",
    "\n",
    "for row in cursor:\n",
    "    \n",
    "    esther.execute(\"INSERT INTO Fisher(FishermanId,FisherName,BoatId,PhoneNumber,EmailAddress, Age) VALUES(%s,%s,%s,%s,%s,%s)\",row)\n",
    "\n",
    "mydb.commit()\n",
    "esther.close()\n",
    "\n",
    "print(\"Data Entered into Fisher Table\")"
   ]
  },
  {
   "cell_type": "code",
   "execution_count": 15,
   "metadata": {},
   "outputs": [
    {
     "name": "stdout",
     "output_type": "stream",
     "text": [
      "Data Entered into Station Table\n"
     ]
    }
   ],
   "source": [
    "import mysql.connector as brenda\n",
    "import csv\n",
    "import pymysql\n",
    "\n",
    "mydb = brenda.connect(\n",
    "        host = \"localhost\",\n",
    "        user=\"root\",\n",
    "        password =\"solo2018\",\n",
    "        database = \"Fisheries\"\n",
    ")\n",
    "esther = mydb.cursor()\n",
    "\n",
    "cursor = csv.reader(open(\"C:\\\\Users\\\\brenda.onyango\\\\Downloads\\\\Station.csv\",\"r\"))\n",
    "\n",
    "#Insert Records\n",
    "next(cursor)\n",
    "\n",
    "for row in cursor:\n",
    "    \n",
    "    esther.execute(\"INSERT INTO Station(StationId,StationName,Address) VALUES(%s,%s,%s)\",row)\n",
    "\n",
    "mydb.commit()\n",
    "esther.close()\n",
    "\n",
    "print(\"Data Entered into Station Table\")"
   ]
  },
  {
   "cell_type": "code",
   "execution_count": null,
   "metadata": {},
   "outputs": [],
   "source": [
    "import mysql.connector as brenda\n",
    "\n",
    "mydb = brenda.connect(\n",
    "        host = \"localhost\",\n",
    "        user=\"root\",\n",
    "        password =\"solo2018\",\n",
    "        database = \"Fisheries\n",
    ")\n",
    "port = mydb.cursor()\n",
    "\n",
    "port.execute('''SELECT * FROM \n",
    "               (Colleges INNER JOIN Professors ON Colleges.CollegeId = Professors.CollegeId) \n",
    "               INNER JOIN Students ON Professors.CollegeId = Students.CollegeId''');\n",
    "print(port.fetchall())\n",
    "\n",
    "mydb.commit()\n",
    "#port.close()"
   ]
  },
  {
   "cell_type": "code",
   "execution_count": 16,
   "metadata": {},
   "outputs": [
    {
     "name": "stdout",
     "output_type": "stream",
     "text": [
      "(193736, 'Sea Queen', 36, 250, 598210, 16000, 0, 598210, 'San Diego Bay', '365 Kirk St', None)\n",
      "(672728, 'Lady Breeze', 36, 260, 681304, 18000, 0, 681304, 'Fa rRockaway', '12 Kings Highway', None)\n",
      "(719672, 'Trailblazer', 60, 330, 492737, 30000, 0, 492737, 'Fishers Land', '992 Dorado Ln', None)\n",
      "(727293, 'Carolina', 45, 300, 912076, 25000, 0, 912076, 'Miami Dock', '12 Florida', None)\n",
      "(754424, 'Summer', 40, 280, 768280, 20000, 0, 768280, 'Cape Cod', '412 Boston Dr', None)\n"
     ]
    }
   ],
   "source": [
    "import mysql.connector as brenda\n",
    "\n",
    "mydb = brenda.connect(\n",
    "        host = \"localhost\",\n",
    "        user=\"root\",\n",
    "        password =\"solo2018\",\n",
    "        database = \"Fisheries\"\n",
    ")\n",
    "port = mydb.cursor()\n",
    "\n",
    "#Join Boat and Station tables\n",
    "def fishing():\n",
    "    port.execute(\"\"\"SELECT * FROM Boat INNER JOIN Station ON Boat.StationId = Station.StationId\"\"\")\n",
    "\n",
    "    \n",
    "    for z in port.fetchall():\n",
    "        print(z)\n",
    "\n",
    "fishing()"
   ]
  },
  {
   "cell_type": "code",
   "execution_count": 17,
   "metadata": {},
   "outputs": [
    {
     "name": "stdout",
     "output_type": "stream",
     "text": [
      "(98662, 'Walter Pistini', 727293, 69367532, 'pistinini@yahoo.com', 44, 727293, 'Carolina', 45, 300, 912076, 25000, 0, '21092', 'Dean Calem', '727293', 72735242, 'calemddd@yahoo.com')\n",
      "(90652, 'Brian Coplan', 193736, 59432822, 'cop.b@ymail.com', 48, 193736, 'Sea Queen', 36, 250, 598210, 16000, 0, '38762', 'Andy Troy', '193736', 64243965, 'andytroy@gmail.com')\n",
      "(12322, 'Igor Stavic', 754424, 93583527, 'stavic.r.i@gmail.com', 37, 754424, 'Summer', 40, 280, 768280, 20000, 0, '67262', 'Brad Cooper', '754424', 87273379, 'bradcooper@ymail.com')\n",
      "(25042, 'Reggie Nander', 719672, 48621906, 'nanderR@aol.com', 51, 719672, 'Trailblazer', 60, 330, 492737, 30000, 0, '87622', 'Roger Bloom', '719672', 23538893, 'rogerbloom@gmail.com')\n",
      "(54662, 'Glenn Bodin', 672728, 37247373, 'glenbodin@gmail.com ', 40, 672728, 'Lady Breeze', 36, 260, 681304, 18000, 0, '89833', 'Lynn Camper', '672728', 66283739, 'lynnc@gmail.com')\n"
     ]
    }
   ],
   "source": [
    "import mysql.connector as brenda\n",
    "\n",
    "mydb = brenda.connect(\n",
    "        host = \"localhost\",\n",
    "        user=\"root\",\n",
    "        password =\"solo2018\",\n",
    "        database = \"Fisheries\"\n",
    ")\n",
    "docker = mydb.cursor()\n",
    "\n",
    "#Join Fisher and Owner tables with Boat Table\n",
    "def fishing():\n",
    "    docker.execute(\"\"\"SELECT * FROM Fisher INNER JOIN Boat ON Fisher.BoatId = Boat.BoatId \n",
    "               INNER JOIN Owner ON Owner.BoatId = Boat.BoatId\"\"\")\n",
    "\n",
    "    \n",
    "    for z in docker.fetchall():\n",
    "        print(z)\n",
    "\n",
    "fishing()"
   ]
  },
  {
   "cell_type": "code",
   "execution_count": null,
   "metadata": {},
   "outputs": [],
   "source": []
  }
 ],
 "metadata": {
  "kernelspec": {
   "display_name": "Python 3",
   "language": "python",
   "name": "python3"
  },
  "language_info": {
   "codemirror_mode": {
    "name": "ipython",
    "version": 3
   },
   "file_extension": ".py",
   "mimetype": "text/x-python",
   "name": "python",
   "nbconvert_exporter": "python",
   "pygments_lexer": "ipython3",
   "version": "3.8.5"
  }
 },
 "nbformat": 4,
 "nbformat_minor": 4
}
